{
  "nbformat": 4,
  "nbformat_minor": 0,
  "metadata": {
    "colab": {
      "provenance": [],
      "authorship_tag": "ABX9TyNTnU87UwLm49y4t5m46N7Q",
      "include_colab_link": true
    },
    "kernelspec": {
      "name": "python3",
      "display_name": "Python 3"
    },
    "language_info": {
      "name": "python"
    }
  },
  "cells": [
    {
      "cell_type": "markdown",
      "metadata": {
        "id": "view-in-github",
        "colab_type": "text"
      },
      "source": [
        "<a href=\"https://colab.research.google.com/github/dibasdauliya/python-college/blob/main/a7_dauliya.ipynb\" target=\"_parent\"><img src=\"https://colab.research.google.com/assets/colab-badge.svg\" alt=\"Open In Colab\"/></a>"
      ]
    },
    {
      "cell_type": "markdown",
      "source": [
        "**Dibas Dauliya**\n",
        "\n",
        "*CS195-007*\n",
        "\n",
        "Assignment 7"
      ],
      "metadata": {
        "id": "AL_6BnM_dpst"
      }
    },
    {
      "cell_type": "code",
      "execution_count": 5,
      "metadata": {
        "colab": {
          "base_uri": "https://localhost:8080/"
        },
        "id": "jWt7GFqNdYxV",
        "outputId": "d680dfba-ef0c-41e9-e09f-92539d28b222"
      },
      "outputs": [
        {
          "output_type": "stream",
          "name": "stdout",
          "text": [
            "lst = [10, 11, 12, 13, 14, 15, 16, 17, 18, 19, 20]\n",
            "Second item in lst = 11.\n"
          ]
        }
      ],
      "source": [
        "# creating empty list in lst variable\n",
        "lst = []\n",
        "\n",
        "# for loop that adds numbers from 10 to 20. range(10,21) is shorthand for list of numbers from 10 to 20\n",
        "for num in range(10,21):\n",
        "  lst.append(num) # appends each number in every iteration of loop\n",
        "\n",
        "print(f\"{lst = }\")\n",
        "print(f\"Second item in lst: {lst[1]}.\")"
      ]
    },
    {
      "cell_type": "code",
      "source": [
        "# importing randint function from random package\n",
        "from random import randint\n",
        "\n",
        "# creating empty set in s1 variable\n",
        "s1 = set()\n",
        "\n",
        "# for loop that adds random numbers from 1 to 40. range(10,21) is shorthand for list of numbers from 0 to 49\n",
        "for num in range(0,50):\n",
        "  s1.add(randint(1,40))\n",
        "\n",
        "print(f\"Number of items in s1: {len(s1)}\")"
      ],
      "metadata": {
        "colab": {
          "base_uri": "https://localhost:8080/"
        },
        "id": "kuvpdAu-fyx8",
        "outputId": "86940e23-a905-404f-a81a-78f2c14b50c6"
      },
      "execution_count": 23,
      "outputs": [
        {
          "output_type": "stream",
          "name": "stdout",
          "text": [
            "Number of items in s1 = 28\n"
          ]
        }
      ]
    },
    {
      "cell_type": "code",
      "source": [
        "# store a set in s2 variable based on lst\n",
        "s2 = set(lst)\n",
        "\n",
        "print(f\"Intersection of s2 and s1: {s2.intersection(s1)}\")\n",
        "print(f\"Difference between s2 and s1: {s2.difference(s1)}\")\n",
        "print(f\"Number of items in union od s2 and s1: {len(s2.union(s1))}\")"
      ],
      "metadata": {
        "colab": {
          "base_uri": "https://localhost:8080/"
        },
        "id": "WQGvY1R5iIVs",
        "outputId": "1a0a35bd-3647-4b86-fcca-5fccc19eef4c"
      },
      "execution_count": 25,
      "outputs": [
        {
          "output_type": "stream",
          "name": "stdout",
          "text": [
            "Intersection of s2 and s1: {11, 12, 14, 16, 20}\n",
            "Difference between s2 and s1: {10, 13, 15, 17, 18, 19}\n",
            "Number of items in union od s2 and s1: 34\n"
          ]
        }
      ]
    }
  ]
}